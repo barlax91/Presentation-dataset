{
 "cells": [
  {
   "cell_type": "code",
   "execution_count": 1,
   "id": "ee25f251",
   "metadata": {},
   "outputs": [],
   "source": [
    "import pandas as pd\n",
    "import numpy as np\n",
    "import matplotlib.pyplot as plt\n",
    "import seaborn as sb"
   ]
  },
  {
   "cell_type": "code",
   "execution_count": 2,
   "id": "fae09723",
   "metadata": {},
   "outputs": [],
   "source": [
    "df=pd.read_csv('vgsales.csv')"
   ]
  },
  {
   "cell_type": "code",
   "execution_count": 3,
   "id": "7ebe7f65",
   "metadata": {},
   "outputs": [
    {
     "name": "stdout",
     "output_type": "stream",
     "text": [
      "\n",
      "<class 'pandas.core.frame.DataFrame'>\n",
      "Int64Index: 16291 entries, 0 to 16597\n",
      "Data columns (total 11 columns):\n",
      " #   Column        Non-Null Count  Dtype  \n",
      "---  ------        --------------  -----  \n",
      " 0   Rank          16291 non-null  int64  \n",
      " 1   Name          16291 non-null  object \n",
      " 2   Platform      16291 non-null  object \n",
      " 3   Year          16291 non-null  int32  \n",
      " 4   Genre         16291 non-null  object \n",
      " 5   Publisher     16291 non-null  object \n",
      " 6   NA_Sales      16291 non-null  float64\n",
      " 7   EU_Sales      16291 non-null  float64\n",
      " 8   JP_Sales      16291 non-null  float64\n",
      " 9   Other_Sales   16291 non-null  float64\n",
      " 10  Global_Sales  16291 non-null  float64\n",
      "dtypes: float64(5), int32(1), int64(1), object(4)\n",
      "memory usage: 1.4+ MB\n"
     ]
    }
   ],
   "source": [
    "#On retire les valeurs nulles.\n",
    "df = df.dropna()\n",
    "print('')\n",
    "#Caste les années en type int\n",
    "df.Year=df.Year.astype(int)\n",
    "df.info()"
   ]
  },
  {
   "cell_type": "code",
   "execution_count": 4,
   "id": "8bf18b41",
   "metadata": {
    "scrolled": true
   },
   "outputs": [
    {
     "data": {
      "text/html": [
       "<div>\n",
       "<style scoped>\n",
       "    .dataframe tbody tr th:only-of-type {\n",
       "        vertical-align: middle;\n",
       "    }\n",
       "\n",
       "    .dataframe tbody tr th {\n",
       "        vertical-align: top;\n",
       "    }\n",
       "\n",
       "    .dataframe thead th {\n",
       "        text-align: right;\n",
       "    }\n",
       "</style>\n",
       "<table border=\"1\" class=\"dataframe\">\n",
       "  <thead>\n",
       "    <tr style=\"text-align: right;\">\n",
       "      <th></th>\n",
       "      <th>Rank</th>\n",
       "      <th>Name</th>\n",
       "      <th>Platform</th>\n",
       "      <th>Year</th>\n",
       "      <th>Genre</th>\n",
       "      <th>Publisher</th>\n",
       "      <th>NA_Sales</th>\n",
       "      <th>EU_Sales</th>\n",
       "      <th>JP_Sales</th>\n",
       "      <th>Other_Sales</th>\n",
       "      <th>Global_Sales</th>\n",
       "    </tr>\n",
       "  </thead>\n",
       "  <tbody>\n",
       "    <tr>\n",
       "      <th>0</th>\n",
       "      <td>1</td>\n",
       "      <td>Wii Sports</td>\n",
       "      <td>Wii</td>\n",
       "      <td>2006</td>\n",
       "      <td>Sports</td>\n",
       "      <td>Nintendo</td>\n",
       "      <td>41.49</td>\n",
       "      <td>29.02</td>\n",
       "      <td>3.77</td>\n",
       "      <td>8.46</td>\n",
       "      <td>82.74</td>\n",
       "    </tr>\n",
       "    <tr>\n",
       "      <th>1</th>\n",
       "      <td>2</td>\n",
       "      <td>Super Mario Bros.</td>\n",
       "      <td>NES</td>\n",
       "      <td>1985</td>\n",
       "      <td>Platform</td>\n",
       "      <td>Nintendo</td>\n",
       "      <td>29.08</td>\n",
       "      <td>3.58</td>\n",
       "      <td>6.81</td>\n",
       "      <td>0.77</td>\n",
       "      <td>40.24</td>\n",
       "    </tr>\n",
       "    <tr>\n",
       "      <th>2</th>\n",
       "      <td>3</td>\n",
       "      <td>Mario Kart Wii</td>\n",
       "      <td>Wii</td>\n",
       "      <td>2008</td>\n",
       "      <td>Racing</td>\n",
       "      <td>Nintendo</td>\n",
       "      <td>15.85</td>\n",
       "      <td>12.88</td>\n",
       "      <td>3.79</td>\n",
       "      <td>3.31</td>\n",
       "      <td>35.82</td>\n",
       "    </tr>\n",
       "    <tr>\n",
       "      <th>3</th>\n",
       "      <td>4</td>\n",
       "      <td>Wii Sports Resort</td>\n",
       "      <td>Wii</td>\n",
       "      <td>2009</td>\n",
       "      <td>Sports</td>\n",
       "      <td>Nintendo</td>\n",
       "      <td>15.75</td>\n",
       "      <td>11.01</td>\n",
       "      <td>3.28</td>\n",
       "      <td>2.96</td>\n",
       "      <td>33.00</td>\n",
       "    </tr>\n",
       "    <tr>\n",
       "      <th>4</th>\n",
       "      <td>5</td>\n",
       "      <td>Pokemon Red/Pokemon Blue</td>\n",
       "      <td>GB</td>\n",
       "      <td>1996</td>\n",
       "      <td>Role-Playing</td>\n",
       "      <td>Nintendo</td>\n",
       "      <td>11.27</td>\n",
       "      <td>8.89</td>\n",
       "      <td>10.22</td>\n",
       "      <td>1.00</td>\n",
       "      <td>31.37</td>\n",
       "    </tr>\n",
       "    <tr>\n",
       "      <th>...</th>\n",
       "      <td>...</td>\n",
       "      <td>...</td>\n",
       "      <td>...</td>\n",
       "      <td>...</td>\n",
       "      <td>...</td>\n",
       "      <td>...</td>\n",
       "      <td>...</td>\n",
       "      <td>...</td>\n",
       "      <td>...</td>\n",
       "      <td>...</td>\n",
       "      <td>...</td>\n",
       "    </tr>\n",
       "    <tr>\n",
       "      <th>16593</th>\n",
       "      <td>16596</td>\n",
       "      <td>Woody Woodpecker in Crazy Castle 5</td>\n",
       "      <td>GBA</td>\n",
       "      <td>2002</td>\n",
       "      <td>Platform</td>\n",
       "      <td>Kemco</td>\n",
       "      <td>0.01</td>\n",
       "      <td>0.00</td>\n",
       "      <td>0.00</td>\n",
       "      <td>0.00</td>\n",
       "      <td>0.01</td>\n",
       "    </tr>\n",
       "    <tr>\n",
       "      <th>16594</th>\n",
       "      <td>16597</td>\n",
       "      <td>Men in Black II: Alien Escape</td>\n",
       "      <td>GC</td>\n",
       "      <td>2003</td>\n",
       "      <td>Shooter</td>\n",
       "      <td>Infogrames</td>\n",
       "      <td>0.01</td>\n",
       "      <td>0.00</td>\n",
       "      <td>0.00</td>\n",
       "      <td>0.00</td>\n",
       "      <td>0.01</td>\n",
       "    </tr>\n",
       "    <tr>\n",
       "      <th>16595</th>\n",
       "      <td>16598</td>\n",
       "      <td>SCORE International Baja 1000: The Official Game</td>\n",
       "      <td>PS2</td>\n",
       "      <td>2008</td>\n",
       "      <td>Racing</td>\n",
       "      <td>Activision</td>\n",
       "      <td>0.00</td>\n",
       "      <td>0.00</td>\n",
       "      <td>0.00</td>\n",
       "      <td>0.00</td>\n",
       "      <td>0.01</td>\n",
       "    </tr>\n",
       "    <tr>\n",
       "      <th>16596</th>\n",
       "      <td>16599</td>\n",
       "      <td>Know How 2</td>\n",
       "      <td>DS</td>\n",
       "      <td>2010</td>\n",
       "      <td>Puzzle</td>\n",
       "      <td>7G//AMES</td>\n",
       "      <td>0.00</td>\n",
       "      <td>0.01</td>\n",
       "      <td>0.00</td>\n",
       "      <td>0.00</td>\n",
       "      <td>0.01</td>\n",
       "    </tr>\n",
       "    <tr>\n",
       "      <th>16597</th>\n",
       "      <td>16600</td>\n",
       "      <td>Spirits &amp; Spells</td>\n",
       "      <td>GBA</td>\n",
       "      <td>2003</td>\n",
       "      <td>Platform</td>\n",
       "      <td>Wanadoo</td>\n",
       "      <td>0.01</td>\n",
       "      <td>0.00</td>\n",
       "      <td>0.00</td>\n",
       "      <td>0.00</td>\n",
       "      <td>0.01</td>\n",
       "    </tr>\n",
       "  </tbody>\n",
       "</table>\n",
       "<p>16291 rows × 11 columns</p>\n",
       "</div>"
      ],
      "text/plain": [
       "        Rank                                              Name Platform  Year  \\\n",
       "0          1                                        Wii Sports      Wii  2006   \n",
       "1          2                                 Super Mario Bros.      NES  1985   \n",
       "2          3                                    Mario Kart Wii      Wii  2008   \n",
       "3          4                                 Wii Sports Resort      Wii  2009   \n",
       "4          5                          Pokemon Red/Pokemon Blue       GB  1996   \n",
       "...      ...                                               ...      ...   ...   \n",
       "16593  16596                Woody Woodpecker in Crazy Castle 5      GBA  2002   \n",
       "16594  16597                     Men in Black II: Alien Escape       GC  2003   \n",
       "16595  16598  SCORE International Baja 1000: The Official Game      PS2  2008   \n",
       "16596  16599                                        Know How 2       DS  2010   \n",
       "16597  16600                                  Spirits & Spells      GBA  2003   \n",
       "\n",
       "              Genre   Publisher  NA_Sales  EU_Sales  JP_Sales  Other_Sales  \\\n",
       "0            Sports    Nintendo     41.49     29.02      3.77         8.46   \n",
       "1          Platform    Nintendo     29.08      3.58      6.81         0.77   \n",
       "2            Racing    Nintendo     15.85     12.88      3.79         3.31   \n",
       "3            Sports    Nintendo     15.75     11.01      3.28         2.96   \n",
       "4      Role-Playing    Nintendo     11.27      8.89     10.22         1.00   \n",
       "...             ...         ...       ...       ...       ...          ...   \n",
       "16593      Platform       Kemco      0.01      0.00      0.00         0.00   \n",
       "16594       Shooter  Infogrames      0.01      0.00      0.00         0.00   \n",
       "16595        Racing  Activision      0.00      0.00      0.00         0.00   \n",
       "16596        Puzzle    7G//AMES      0.00      0.01      0.00         0.00   \n",
       "16597      Platform     Wanadoo      0.01      0.00      0.00         0.00   \n",
       "\n",
       "       Global_Sales  \n",
       "0             82.74  \n",
       "1             40.24  \n",
       "2             35.82  \n",
       "3             33.00  \n",
       "4             31.37  \n",
       "...             ...  \n",
       "16593          0.01  \n",
       "16594          0.01  \n",
       "16595          0.01  \n",
       "16596          0.01  \n",
       "16597          0.01  \n",
       "\n",
       "[16291 rows x 11 columns]"
      ]
     },
     "execution_count": 4,
     "metadata": {},
     "output_type": "execute_result"
    }
   ],
   "source": [
    "df"
   ]
  },
  {
   "cell_type": "code",
   "execution_count": 5,
   "id": "73466cec",
   "metadata": {},
   "outputs": [
    {
     "name": "stdout",
     "output_type": "stream",
     "text": [
      "<class 'pandas.core.frame.DataFrame'>\n",
      "Int64Index: 16291 entries, 0 to 16597\n",
      "Data columns (total 11 columns):\n",
      " #   Column        Non-Null Count  Dtype  \n",
      "---  ------        --------------  -----  \n",
      " 0   Rank          16291 non-null  int64  \n",
      " 1   Name          16291 non-null  object \n",
      " 2   Platform      16291 non-null  object \n",
      " 3   Year          16291 non-null  int32  \n",
      " 4   Genre         16291 non-null  object \n",
      " 5   Publisher     16291 non-null  object \n",
      " 6   NA_Sales      16291 non-null  float64\n",
      " 7   EU_Sales      16291 non-null  float64\n",
      " 8   JP_Sales      16291 non-null  float64\n",
      " 9   Other_Sales   16291 non-null  float64\n",
      " 10  Global_Sales  16291 non-null  float64\n",
      "dtypes: float64(5), int32(1), int64(1), object(4)\n",
      "memory usage: 1.4+ MB\n"
     ]
    }
   ],
   "source": [
    "df.info()"
   ]
  },
  {
   "cell_type": "code",
   "execution_count": 6,
   "id": "2af3463c",
   "metadata": {
    "scrolled": true
   },
   "outputs": [
    {
     "data": {
      "text/plain": [
       "Need for Speed: Most Wanted    12\n",
       "FIFA 14                         9\n",
       "Ratatouille                     9\n",
       "LEGO Marvel Super Heroes        9\n",
       "Cars                            8\n",
       "                               ..\n",
       "PGA Tour 96                     1\n",
       "Game & Wario                    1\n",
       "Angry Birds                     1\n",
       "Shadow Hearts: Covenant         1\n",
       "Know How 2                      1\n",
       "Name: Name, Length: 11325, dtype: int64"
      ]
     },
     "execution_count": 6,
     "metadata": {},
     "output_type": "execute_result"
    }
   ],
   "source": [
    "df.Name.value_counts()"
   ]
  },
  {
   "cell_type": "code",
   "execution_count": 7,
   "id": "8f0665d2",
   "metadata": {},
   "outputs": [
    {
     "data": {
      "text/plain": [
       "DS      2131\n",
       "PS2     2127\n",
       "PS3     1304\n",
       "Wii     1290\n",
       "X360    1234\n",
       "PSP     1197\n",
       "PS      1189\n",
       "PC       938\n",
       "XB       803\n",
       "GBA      786\n",
       "GC       542\n",
       "3DS      499\n",
       "PSV      410\n",
       "PS4      336\n",
       "N64      316\n",
       "SNES     239\n",
       "XOne     213\n",
       "SAT      173\n",
       "WiiU     143\n",
       "2600     116\n",
       "NES       98\n",
       "GB        97\n",
       "DC        52\n",
       "GEN       27\n",
       "NG        12\n",
       "SCD        6\n",
       "WS         6\n",
       "3DO        3\n",
       "TG16       2\n",
       "GG         1\n",
       "PCFX       1\n",
       "Name: Platform, dtype: int64"
      ]
     },
     "execution_count": 7,
     "metadata": {},
     "output_type": "execute_result"
    }
   ],
   "source": [
    "# Nombre de jeux par plateforme\n",
    "df.Platform.value_counts()"
   ]
  },
  {
   "cell_type": "code",
   "execution_count": 8,
   "id": "d3d8342b",
   "metadata": {},
   "outputs": [
    {
     "data": {
      "text/plain": [
       "31"
      ]
     },
     "execution_count": 8,
     "metadata": {},
     "output_type": "execute_result"
    }
   ],
   "source": [
    "#Nombres de valeurs différentes pour la colonne platform\n",
    "df.Platform.nunique()"
   ]
  },
  {
   "cell_type": "code",
   "execution_count": 9,
   "id": "de26054b",
   "metadata": {
    "scrolled": true
   },
   "outputs": [
    {
     "data": {
      "text/html": [
       "<div>\n",
       "<style scoped>\n",
       "    .dataframe tbody tr th:only-of-type {\n",
       "        vertical-align: middle;\n",
       "    }\n",
       "\n",
       "    .dataframe tbody tr th {\n",
       "        vertical-align: top;\n",
       "    }\n",
       "\n",
       "    .dataframe thead th {\n",
       "        text-align: right;\n",
       "    }\n",
       "</style>\n",
       "<table border=\"1\" class=\"dataframe\">\n",
       "  <thead>\n",
       "    <tr style=\"text-align: right;\">\n",
       "      <th></th>\n",
       "      <th>Rank</th>\n",
       "      <th>Year</th>\n",
       "      <th>NA_Sales</th>\n",
       "      <th>EU_Sales</th>\n",
       "      <th>JP_Sales</th>\n",
       "      <th>Other_Sales</th>\n",
       "      <th>Global_Sales</th>\n",
       "    </tr>\n",
       "    <tr>\n",
       "      <th>Platform</th>\n",
       "      <th></th>\n",
       "      <th></th>\n",
       "      <th></th>\n",
       "      <th></th>\n",
       "      <th></th>\n",
       "      <th></th>\n",
       "      <th></th>\n",
       "    </tr>\n",
       "  </thead>\n",
       "  <tbody>\n",
       "    <tr>\n",
       "      <th>2600</th>\n",
       "      <td>506090</td>\n",
       "      <td>229928</td>\n",
       "      <td>80.78</td>\n",
       "      <td>4.86</td>\n",
       "      <td>0.00</td>\n",
       "      <td>0.84</td>\n",
       "      <td>86.57</td>\n",
       "    </tr>\n",
       "    <tr>\n",
       "      <th>3DO</th>\n",
       "      <td>43118</td>\n",
       "      <td>5984</td>\n",
       "      <td>0.00</td>\n",
       "      <td>0.00</td>\n",
       "      <td>0.10</td>\n",
       "      <td>0.00</td>\n",
       "      <td>0.10</td>\n",
       "    </tr>\n",
       "    <tr>\n",
       "      <th>3DS</th>\n",
       "      <td>4546735</td>\n",
       "      <td>1004517</td>\n",
       "      <td>78.03</td>\n",
       "      <td>58.29</td>\n",
       "      <td>97.30</td>\n",
       "      <td>12.55</td>\n",
       "      <td>246.27</td>\n",
       "    </tr>\n",
       "    <tr>\n",
       "      <th>DC</th>\n",
       "      <td>456114</td>\n",
       "      <td>103997</td>\n",
       "      <td>5.43</td>\n",
       "      <td>1.69</td>\n",
       "      <td>8.56</td>\n",
       "      <td>0.27</td>\n",
       "      <td>15.97</td>\n",
       "    </tr>\n",
       "    <tr>\n",
       "      <th>DS</th>\n",
       "      <td>20460770</td>\n",
       "      <td>4279469</td>\n",
       "      <td>388.53</td>\n",
       "      <td>194.05</td>\n",
       "      <td>175.02</td>\n",
       "      <td>60.29</td>\n",
       "      <td>818.91</td>\n",
       "    </tr>\n",
       "    <tr>\n",
       "      <th>GB</th>\n",
       "      <td>330398</td>\n",
       "      <td>193608</td>\n",
       "      <td>113.64</td>\n",
       "      <td>47.51</td>\n",
       "      <td>85.12</td>\n",
       "      <td>8.16</td>\n",
       "      <td>254.42</td>\n",
       "    </tr>\n",
       "    <tr>\n",
       "      <th>GBA</th>\n",
       "      <td>6865394</td>\n",
       "      <td>1574496</td>\n",
       "      <td>178.43</td>\n",
       "      <td>72.49</td>\n",
       "      <td>46.56</td>\n",
       "      <td>7.51</td>\n",
       "      <td>305.62</td>\n",
       "    </tr>\n",
       "    <tr>\n",
       "      <th>GC</th>\n",
       "      <td>4670592</td>\n",
       "      <td>1085843</td>\n",
       "      <td>131.94</td>\n",
       "      <td>38.32</td>\n",
       "      <td>21.34</td>\n",
       "      <td>5.13</td>\n",
       "      <td>197.14</td>\n",
       "    </tr>\n",
       "    <tr>\n",
       "      <th>GEN</th>\n",
       "      <td>190019</td>\n",
       "      <td>53812</td>\n",
       "      <td>19.27</td>\n",
       "      <td>5.52</td>\n",
       "      <td>2.67</td>\n",
       "      <td>0.89</td>\n",
       "      <td>28.36</td>\n",
       "    </tr>\n",
       "    <tr>\n",
       "      <th>GG</th>\n",
       "      <td>13527</td>\n",
       "      <td>1992</td>\n",
       "      <td>0.00</td>\n",
       "      <td>0.00</td>\n",
       "      <td>0.04</td>\n",
       "      <td>0.00</td>\n",
       "      <td>0.04</td>\n",
       "    </tr>\n",
       "    <tr>\n",
       "      <th>N64</th>\n",
       "      <td>2060909</td>\n",
       "      <td>631536</td>\n",
       "      <td>138.91</td>\n",
       "      <td>41.03</td>\n",
       "      <td>33.76</td>\n",
       "      <td>4.31</td>\n",
       "      <td>218.21</td>\n",
       "    </tr>\n",
       "    <tr>\n",
       "      <th>NES</th>\n",
       "      <td>186831</td>\n",
       "      <td>194741</td>\n",
       "      <td>125.94</td>\n",
       "      <td>21.15</td>\n",
       "      <td>98.65</td>\n",
       "      <td>5.31</td>\n",
       "      <td>251.07</td>\n",
       "    </tr>\n",
       "    <tr>\n",
       "      <th>NG</th>\n",
       "      <td>127988</td>\n",
       "      <td>23934</td>\n",
       "      <td>0.00</td>\n",
       "      <td>0.00</td>\n",
       "      <td>1.44</td>\n",
       "      <td>0.00</td>\n",
       "      <td>1.44</td>\n",
       "    </tr>\n",
       "    <tr>\n",
       "      <th>PC</th>\n",
       "      <td>10740441</td>\n",
       "      <td>1884220</td>\n",
       "      <td>92.04</td>\n",
       "      <td>137.35</td>\n",
       "      <td>0.17</td>\n",
       "      <td>24.33</td>\n",
       "      <td>254.70</td>\n",
       "    </tr>\n",
       "    <tr>\n",
       "      <th>PCFX</th>\n",
       "      <td>14559</td>\n",
       "      <td>1996</td>\n",
       "      <td>0.00</td>\n",
       "      <td>0.00</td>\n",
       "      <td>0.03</td>\n",
       "      <td>0.00</td>\n",
       "      <td>0.03</td>\n",
       "    </tr>\n",
       "    <tr>\n",
       "      <th>PS</th>\n",
       "      <td>8271407</td>\n",
       "      <td>2375627</td>\n",
       "      <td>334.71</td>\n",
       "      <td>212.38</td>\n",
       "      <td>139.78</td>\n",
       "      <td>40.69</td>\n",
       "      <td>727.39</td>\n",
       "    </tr>\n",
       "    <tr>\n",
       "      <th>PS2</th>\n",
       "      <td>15917620</td>\n",
       "      <td>4263750</td>\n",
       "      <td>572.92</td>\n",
       "      <td>332.63</td>\n",
       "      <td>137.54</td>\n",
       "      <td>190.47</td>\n",
       "      <td>1233.46</td>\n",
       "    </tr>\n",
       "    <tr>\n",
       "      <th>PS3</th>\n",
       "      <td>8823478</td>\n",
       "      <td>2622109</td>\n",
       "      <td>388.90</td>\n",
       "      <td>340.47</td>\n",
       "      <td>79.21</td>\n",
       "      <td>140.81</td>\n",
       "      <td>949.35</td>\n",
       "    </tr>\n",
       "    <tr>\n",
       "      <th>PS4</th>\n",
       "      <td>2562189</td>\n",
       "      <td>677042</td>\n",
       "      <td>96.80</td>\n",
       "      <td>123.70</td>\n",
       "      <td>14.30</td>\n",
       "      <td>43.36</td>\n",
       "      <td>278.10</td>\n",
       "    </tr>\n",
       "    <tr>\n",
       "      <th>PSP</th>\n",
       "      <td>12466024</td>\n",
       "      <td>2404440</td>\n",
       "      <td>107.09</td>\n",
       "      <td>67.16</td>\n",
       "      <td>75.89</td>\n",
       "      <td>41.52</td>\n",
       "      <td>291.71</td>\n",
       "    </tr>\n",
       "    <tr>\n",
       "      <th>PSV</th>\n",
       "      <td>4694208</td>\n",
       "      <td>825750</td>\n",
       "      <td>16.07</td>\n",
       "      <td>16.27</td>\n",
       "      <td>20.86</td>\n",
       "      <td>8.41</td>\n",
       "      <td>61.60</td>\n",
       "    </tr>\n",
       "    <tr>\n",
       "      <th>SAT</th>\n",
       "      <td>1614771</td>\n",
       "      <td>345313</td>\n",
       "      <td>0.72</td>\n",
       "      <td>0.54</td>\n",
       "      <td>32.26</td>\n",
       "      <td>0.07</td>\n",
       "      <td>33.59</td>\n",
       "    </tr>\n",
       "    <tr>\n",
       "      <th>SCD</th>\n",
       "      <td>61031</td>\n",
       "      <td>11963</td>\n",
       "      <td>1.00</td>\n",
       "      <td>0.36</td>\n",
       "      <td>0.45</td>\n",
       "      <td>0.05</td>\n",
       "      <td>1.87</td>\n",
       "    </tr>\n",
       "    <tr>\n",
       "      <th>SNES</th>\n",
       "      <td>1516804</td>\n",
       "      <td>476529</td>\n",
       "      <td>61.23</td>\n",
       "      <td>19.04</td>\n",
       "      <td>116.55</td>\n",
       "      <td>3.22</td>\n",
       "      <td>200.05</td>\n",
       "    </tr>\n",
       "    <tr>\n",
       "      <th>TG16</th>\n",
       "      <td>24763</td>\n",
       "      <td>3990</td>\n",
       "      <td>0.00</td>\n",
       "      <td>0.00</td>\n",
       "      <td>0.16</td>\n",
       "      <td>0.00</td>\n",
       "      <td>0.16</td>\n",
       "    </tr>\n",
       "    <tr>\n",
       "      <th>WS</th>\n",
       "      <td>47273</td>\n",
       "      <td>12000</td>\n",
       "      <td>0.00</td>\n",
       "      <td>0.00</td>\n",
       "      <td>1.42</td>\n",
       "      <td>0.00</td>\n",
       "      <td>1.42</td>\n",
       "    </tr>\n",
       "    <tr>\n",
       "      <th>Wii</th>\n",
       "      <td>9929663</td>\n",
       "      <td>2591562</td>\n",
       "      <td>497.37</td>\n",
       "      <td>264.35</td>\n",
       "      <td>68.28</td>\n",
       "      <td>79.20</td>\n",
       "      <td>909.81</td>\n",
       "    </tr>\n",
       "    <tr>\n",
       "      <th>WiiU</th>\n",
       "      <td>1109142</td>\n",
       "      <td>287944</td>\n",
       "      <td>38.32</td>\n",
       "      <td>24.23</td>\n",
       "      <td>12.79</td>\n",
       "      <td>6.45</td>\n",
       "      <td>81.86</td>\n",
       "    </tr>\n",
       "    <tr>\n",
       "      <th>X360</th>\n",
       "      <td>8192936</td>\n",
       "      <td>2480191</td>\n",
       "      <td>594.33</td>\n",
       "      <td>278.00</td>\n",
       "      <td>12.30</td>\n",
       "      <td>84.67</td>\n",
       "      <td>969.60</td>\n",
       "    </tr>\n",
       "    <tr>\n",
       "      <th>XB</th>\n",
       "      <td>7035121</td>\n",
       "      <td>1608920</td>\n",
       "      <td>182.06</td>\n",
       "      <td>59.65</td>\n",
       "      <td>1.38</td>\n",
       "      <td>8.48</td>\n",
       "      <td>252.09</td>\n",
       "    </tr>\n",
       "    <tr>\n",
       "      <th>XOne</th>\n",
       "      <td>1575574</td>\n",
       "      <td>429150</td>\n",
       "      <td>83.19</td>\n",
       "      <td>45.65</td>\n",
       "      <td>0.34</td>\n",
       "      <td>11.92</td>\n",
       "      <td>141.06</td>\n",
       "    </tr>\n",
       "  </tbody>\n",
       "</table>\n",
       "</div>"
      ],
      "text/plain": [
       "              Rank     Year  NA_Sales  EU_Sales  JP_Sales  Other_Sales  \\\n",
       "Platform                                                                 \n",
       "2600        506090   229928     80.78      4.86      0.00         0.84   \n",
       "3DO          43118     5984      0.00      0.00      0.10         0.00   \n",
       "3DS        4546735  1004517     78.03     58.29     97.30        12.55   \n",
       "DC          456114   103997      5.43      1.69      8.56         0.27   \n",
       "DS        20460770  4279469    388.53    194.05    175.02        60.29   \n",
       "GB          330398   193608    113.64     47.51     85.12         8.16   \n",
       "GBA        6865394  1574496    178.43     72.49     46.56         7.51   \n",
       "GC         4670592  1085843    131.94     38.32     21.34         5.13   \n",
       "GEN         190019    53812     19.27      5.52      2.67         0.89   \n",
       "GG           13527     1992      0.00      0.00      0.04         0.00   \n",
       "N64        2060909   631536    138.91     41.03     33.76         4.31   \n",
       "NES         186831   194741    125.94     21.15     98.65         5.31   \n",
       "NG          127988    23934      0.00      0.00      1.44         0.00   \n",
       "PC        10740441  1884220     92.04    137.35      0.17        24.33   \n",
       "PCFX         14559     1996      0.00      0.00      0.03         0.00   \n",
       "PS         8271407  2375627    334.71    212.38    139.78        40.69   \n",
       "PS2       15917620  4263750    572.92    332.63    137.54       190.47   \n",
       "PS3        8823478  2622109    388.90    340.47     79.21       140.81   \n",
       "PS4        2562189   677042     96.80    123.70     14.30        43.36   \n",
       "PSP       12466024  2404440    107.09     67.16     75.89        41.52   \n",
       "PSV        4694208   825750     16.07     16.27     20.86         8.41   \n",
       "SAT        1614771   345313      0.72      0.54     32.26         0.07   \n",
       "SCD          61031    11963      1.00      0.36      0.45         0.05   \n",
       "SNES       1516804   476529     61.23     19.04    116.55         3.22   \n",
       "TG16         24763     3990      0.00      0.00      0.16         0.00   \n",
       "WS           47273    12000      0.00      0.00      1.42         0.00   \n",
       "Wii        9929663  2591562    497.37    264.35     68.28        79.20   \n",
       "WiiU       1109142   287944     38.32     24.23     12.79         6.45   \n",
       "X360       8192936  2480191    594.33    278.00     12.30        84.67   \n",
       "XB         7035121  1608920    182.06     59.65      1.38         8.48   \n",
       "XOne       1575574   429150     83.19     45.65      0.34        11.92   \n",
       "\n",
       "          Global_Sales  \n",
       "Platform                \n",
       "2600             86.57  \n",
       "3DO               0.10  \n",
       "3DS             246.27  \n",
       "DC               15.97  \n",
       "DS              818.91  \n",
       "GB              254.42  \n",
       "GBA             305.62  \n",
       "GC              197.14  \n",
       "GEN              28.36  \n",
       "GG                0.04  \n",
       "N64             218.21  \n",
       "NES             251.07  \n",
       "NG                1.44  \n",
       "PC              254.70  \n",
       "PCFX              0.03  \n",
       "PS              727.39  \n",
       "PS2            1233.46  \n",
       "PS3             949.35  \n",
       "PS4             278.10  \n",
       "PSP             291.71  \n",
       "PSV              61.60  \n",
       "SAT              33.59  \n",
       "SCD               1.87  \n",
       "SNES            200.05  \n",
       "TG16              0.16  \n",
       "WS                1.42  \n",
       "Wii             909.81  \n",
       "WiiU             81.86  \n",
       "X360            969.60  \n",
       "XB              252.09  \n",
       "XOne            141.06  "
      ]
     },
     "execution_count": 9,
     "metadata": {},
     "output_type": "execute_result"
    }
   ],
   "source": [
    "# somme des ventes par plateforme\n",
    "dPlat = df.groupby(\"Platform\").sum()\n",
    "dPlat"
   ]
  },
  {
   "cell_type": "code",
   "execution_count": 10,
   "id": "e5fbee62",
   "metadata": {},
   "outputs": [
    {
     "data": {
      "text/plain": [
       "Text(0.5, 1.0, 'Vente Globale de jeu vidéo par rapport au genre ')"
      ]
     },
     "execution_count": 10,
     "metadata": {},
     "output_type": "execute_result"
    },
    {
     "data": {
      "image/png": "[encoded data removed]",
      "text/plain": [
       "<Figure size 1080x432 with 1 Axes>"
      ]
     },
     "metadata": {
      "needs_background": "light"
     },
     "output_type": "display_data"
    }
   ],
   "source": [
    "#liste genre comprenant tout les genres représentés dans le dataset\n",
    "genre=list(df.Genre.unique())\n",
    "#liste global sales à laquelle on va affecter la moyenne de vente pour chaque genre à l'aide d'une boucle\n",
    "global_sales=[]\n",
    "for i in genre:\n",
    "    val=df[df.Genre==i]\n",
    "    x=val.Global_Sales.mean()\n",
    "    global_sales.append(x)\n",
    "# création du dataframe d1 avec nos deux listes\n",
    "d1 = pd.DataFrame({\"Genre\":genre,\"Global_Sales\":global_sales})\n",
    "d1.sort_values(\"Global_Sales\",ascending=False,inplace=True)\n",
    "# affichage du graphique\n",
    "plt.figure(figsize=(15,6)) # taille\n",
    "sb.barplot(x=\"Genre\", y=\"Global_Sales\", data=d1,palette=\"Blues_d\")# type de graphique\n",
    "plt.xlabel(\"Genre\", fontsize=16, color=\"black\")# style du label des abscisses\n",
    "plt.ylabel(\"Vente globale moyenne(en milliards)\", fontsize=16, color=\"black\")# style du label des ordonnées\n",
    "plt.title(\"Vente Globale de jeu vidéo par rapport au genre \", fontsize=18, color=\"black\")# style du titre"
   ]
  },
  {
   "cell_type": "code",
   "execution_count": 11,
   "id": "4ce3a372",
   "metadata": {},
   "outputs": [],
   "source": [
    "#drecent est le dataframe ne comprenant que les jeux sortis après 2010\n",
    "drecent = df[df.Year>=2010]\n",
    "#liste genre comprenant tout les genres représentés dans le dataset\n",
    "genre=list(drecent.Genre.unique())\n",
    "#liste global sales à laquelle on va affecter la moyenne de vente pour chaque genre \n",
    "global_sales=[]\n",
    "for i in genre:\n",
    "    val=drecent[drecent.Genre==i]\n",
    "    x=val.Global_Sales.mean()\n",
    "    global_sales.append(x)\n",
    "    \n",
    "d1 = pd.DataFrame({\"Genre\":genre,\"Global_Sales\":global_sales})\n",
    "d1.sort_values(\"Global_Sales\",ascending=False,inplace=True)"
   ]
  },
  {
   "cell_type": "code",
   "execution_count": 12,
   "id": "b59cc932",
   "metadata": {
    "scrolled": true
   },
   "outputs": [
    {
     "data": {
      "text/html": [
       "<div>\n",
       "<style scoped>\n",
       "    .dataframe tbody tr th:only-of-type {\n",
       "        vertical-align: middle;\n",
       "    }\n",
       "\n",
       "    .dataframe tbody tr th {\n",
       "        vertical-align: top;\n",
       "    }\n",
       "\n",
       "    .dataframe thead th {\n",
       "        text-align: right;\n",
       "    }\n",
       "</style>\n",
       "<table border=\"1\" class=\"dataframe\">\n",
       "  <thead>\n",
       "    <tr style=\"text-align: right;\">\n",
       "      <th></th>\n",
       "      <th>Genre</th>\n",
       "      <th>Global_Sales</th>\n",
       "    </tr>\n",
       "  </thead>\n",
       "  <tbody>\n",
       "    <tr>\n",
       "      <th>3</th>\n",
       "      <td>Shooter</td>\n",
       "      <td>1.171646</td>\n",
       "    </tr>\n",
       "    <tr>\n",
       "      <th>5</th>\n",
       "      <td>Platform</td>\n",
       "      <td>0.804467</td>\n",
       "    </tr>\n",
       "    <tr>\n",
       "      <th>7</th>\n",
       "      <td>Sports</td>\n",
       "      <td>0.569825</td>\n",
       "    </tr>\n",
       "    <tr>\n",
       "      <th>2</th>\n",
       "      <td>Role-Playing</td>\n",
       "      <td>0.548851</td>\n",
       "    </tr>\n",
       "    <tr>\n",
       "      <th>4</th>\n",
       "      <td>Racing</td>\n",
       "      <td>0.530815</td>\n",
       "    </tr>\n",
       "    <tr>\n",
       "      <th>1</th>\n",
       "      <td>Action</td>\n",
       "      <td>0.468331</td>\n",
       "    </tr>\n",
       "    <tr>\n",
       "      <th>0</th>\n",
       "      <td>Misc</td>\n",
       "      <td>0.422824</td>\n",
       "    </tr>\n",
       "    <tr>\n",
       "      <th>8</th>\n",
       "      <td>Fighting</td>\n",
       "      <td>0.416650</td>\n",
       "    </tr>\n",
       "    <tr>\n",
       "      <th>6</th>\n",
       "      <td>Simulation</td>\n",
       "      <td>0.343720</td>\n",
       "    </tr>\n",
       "    <tr>\n",
       "      <th>9</th>\n",
       "      <td>Strategy</td>\n",
       "      <td>0.214012</td>\n",
       "    </tr>\n",
       "    <tr>\n",
       "      <th>11</th>\n",
       "      <td>Puzzle</td>\n",
       "      <td>0.184609</td>\n",
       "    </tr>\n",
       "    <tr>\n",
       "      <th>10</th>\n",
       "      <td>Adventure</td>\n",
       "      <td>0.112601</td>\n",
       "    </tr>\n",
       "  </tbody>\n",
       "</table>\n",
       "</div>"
      ],
      "text/plain": [
       "           Genre  Global_Sales\n",
       "3        Shooter      1.171646\n",
       "5       Platform      0.804467\n",
       "7         Sports      0.569825\n",
       "2   Role-Playing      0.548851\n",
       "4         Racing      0.530815\n",
       "1         Action      0.468331\n",
       "0           Misc      0.422824\n",
       "8       Fighting      0.416650\n",
       "6     Simulation      0.343720\n",
       "9       Strategy      0.214012\n",
       "11        Puzzle      0.184609\n",
       "10     Adventure      0.112601"
      ]
     },
     "execution_count": 12,
     "metadata": {},
     "output_type": "execute_result"
    }
   ],
   "source": [
    "d1"
   ]
  },
  {
   "cell_type": "code",
   "execution_count": 13,
   "id": "682bea5a",
   "metadata": {
    "scrolled": true
   },
   "outputs": [
    {
     "data": {
      "text/plain": [
       "Text(0.5, 1.0, 'Vente Globale de jeu vidéo par rapport au genre après 2010')"
      ]
     },
     "execution_count": 13,
     "metadata": {},
     "output_type": "execute_result"
    },
    {
     "data": {
      "image/png": "[encoded data removed]",
      "text/plain": [
       "<Figure size 1080x432 with 1 Axes>"
      ]
     },
     "metadata": {
      "needs_background": "light"
     },
     "output_type": "display_data"
    }
   ],
   "source": [
    "# affichage du graphique\n",
    "plt.figure(figsize=(15,6))\n",
    "sb.barplot(x=\"Genre\", y=\"Global_Sales\", data=d1,palette=\"Blues_d\")\n",
    "plt.xlabel(\"Genre\", fontsize=16, color=\"black\")\n",
    "plt.ylabel(\"Vente globale moyenne (en milliards)\", fontsize=16, color=\"black\")\n",
    "plt.title(\"Vente Globale de jeu vidéo par rapport au genre après 2010\", fontsize=18, color=\"black\")"
   ]
  },
  {
   "cell_type": "code",
   "execution_count": 14,
   "id": "305fab52",
   "metadata": {},
   "outputs": [
    {
     "data": {
      "text/plain": [
       "count    16291.000000\n",
       "mean      2006.405561\n",
       "std          5.832412\n",
       "min       1980.000000\n",
       "25%       2003.000000\n",
       "50%       2007.000000\n",
       "75%       2010.000000\n",
       "max       2020.000000\n",
       "Name: Year, dtype: float64"
      ]
     },
     "execution_count": 14,
     "metadata": {},
     "output_type": "execute_result"
    }
   ],
   "source": [
    "df.Year.describe()"
   ]
  },
  {
   "cell_type": "code",
   "execution_count": 15,
   "id": "c3bf945a",
   "metadata": {},
   "outputs": [
    {
     "data": {
      "text/plain": [
       "Text(0.5, 1.0, 'Vente Globale de jeu vidéo par rapport aux plateformes')"
      ]
     },
     "execution_count": 15,
     "metadata": {},
     "output_type": "execute_result"
    },
    {
     "data": {
      "image/png": "[encoded data removed]",
      "text/plain": [
       "<Figure size 1080x432 with 1 Axes>"
      ]
     },
     "metadata": {
      "needs_background": "light"
     },
     "output_type": "display_data"
    }
   ],
   "source": [
    "#liste plateforme comprenant tout les genres représentés dans le dataset\n",
    "plateforme=list(df.Platform.unique())\n",
    "#liste global sales à laquelle on va affecter la moyenne de vente pour chaque genre \n",
    "global_sales=[]\n",
    "for i in plateforme:\n",
    "    val=df[df.Platform==i]\n",
    "    x=val.Global_Sales.mean()\n",
    "    global_sales.append(x)\n",
    "    \n",
    "d3 = pd.DataFrame({\"Plateforme\":plateforme,\"Global_Sales\":global_sales})\n",
    "d3.sort_values(\"Global_Sales\",ascending=False,inplace=True)\n",
    "# affichage du graphique\n",
    "plt.figure(figsize=(15,6))\n",
    "sb.barplot(x=\"Plateforme\", y=\"Global_Sales\", data=d3,palette=\"Blues_d\")\n",
    "plt.xlabel(\"Genre\", fontsize=16, color=\"black\")\n",
    "plt.ylabel(\"Vente globale moyenne(en milliards)\", fontsize=16, color=\"black\")\n",
    "plt.title(\"Vente Globale de jeu vidéo par rapport aux plateformes\", fontsize=18, color=\"black\")"
   ]
  },
  {
   "cell_type": "code",
   "execution_count": 16,
   "id": "a14d6844",
   "metadata": {},
   "outputs": [
    {
     "data": {
      "text/plain": [
       "Text(0.5, 1.0, 'Vente Globale de jeu vidéo par rapport au plateformes après 2010')"
      ]
     },
     "execution_count": 16,
     "metadata": {},
     "output_type": "execute_result"
    },
    {
     "data": {
      "image/png": "[encoded data removed]",
      "text/plain": [
       "<Figure size 1080x432 with 1 Axes>"
      ]
     },
     "metadata": {
      "needs_background": "light"
     },
     "output_type": "display_data"
    }
   ],
   "source": [
    "#liste plateforme comprenant tout les genres représentés dans le dataset\n",
    "plateforme=list(drecent.Platform.unique())\n",
    "#liste global sales à laquelle on va affecter la moyenne de vente pour chaque genre \n",
    "global_sales=[]\n",
    "for i in plateforme:\n",
    "    val=drecent[drecent.Platform==i]\n",
    "    x=val.Global_Sales.mean()\n",
    "    global_sales.append(x)\n",
    "    \n",
    "d4 = pd.DataFrame({\"Plateforme\":plateforme,\"Global_Sales\":global_sales})\n",
    "d4.sort_values(\"Global_Sales\",ascending=False,inplace=True)\n",
    "# affichage du graphique\n",
    "plt.figure(figsize=(15,6))\n",
    "sb.barplot(x=\"Plateforme\", y=\"Global_Sales\", data=d4,palette=\"Blues_d\")\n",
    "plt.xlabel(\"Genre\", fontsize=16, color=\"black\")\n",
    "plt.ylabel(\"Vente globale moyenne(en milliards)\", fontsize=16, color=\"black\")\n",
    "plt.title(\"Vente Globale de jeu vidéo par rapport au plateformes après 2010\", fontsize=18, color=\"black\")"
   ]
  },
  {
   "cell_type": "code",
   "execution_count": 17,
   "id": "8333aa63",
   "metadata": {},
   "outputs": [
    {
     "data": {
      "text/plain": [
       "<AxesSubplot:>"
      ]
     },
     "execution_count": 17,
     "metadata": {},
     "output_type": "execute_result"
    },
    {
     "data": {
      "image/png": "[encoded data removed]",
      "text/plain": [
       "<Figure size 432x432 with 2 Axes>"
      ]
     },
     "metadata": {
      "needs_background": "light"
     },
     "output_type": "display_data"
    }
   ],
   "source": [
    "# Taux de ventes selon le genre de jeux qui sont l'Amérique du Nord, l'euro, le Japon,les ventes mondiales et les autres ventes.\n",
    "genre_list=list(df.Genre.unique())\n",
    "na_sales=[]\n",
    "eu_sales=[]\n",
    "jp_sales=[]\n",
    "other_sales=[]\n",
    "global_sales=[]\n",
    "for i in genre_list:\n",
    "    val=df[df.Genre==i]\n",
    "    na_sales.append(val.NA_Sales.mean())\n",
    "    eu_sales.append(val.EU_Sales.mean())\n",
    "    jp_sales.append(val.JP_Sales.mean())\n",
    "    other_sales.append(val.Other_Sales.mean())\n",
    "    global_sales.append(val.Global_Sales.mean())\n",
    "    \n",
    "plt.subplots(figsize=(6, 6))\n",
    "sb.heatmap(df.corr(), annot=True)"
   ]
  },
  {
   "cell_type": "code",
   "execution_count": 18,
   "id": "56492095",
   "metadata": {
    "scrolled": true
   },
   "outputs": [
    {
     "data": {
      "text/plain": [
       "<AxesSubplot:xlabel='Year', ylabel='Global_Sales'>"
      ]
     },
     "execution_count": 18,
     "metadata": {},
     "output_type": "execute_result"
    },
    {
     "data": {
      "image/png": "[encoded data removed]",
      "text/plain": [
       "<Figure size 432x288 with 1 Axes>"
      ]
     },
     "metadata": {
      "needs_background": "light"
     },
     "output_type": "display_data"
    }
   ],
   "source": [
    "drecent2 = drecent[(drecent['Global_Sales'] < 0.55)&(drecent['Year']<2017)] \n",
    "sb.boxplot(x='Year',y='Global_Sales',data = drecent2, color=\"blue\")"
   ]
  },
  {
   "cell_type": "code",
   "execution_count": 19,
   "id": "be835283",
   "metadata": {},
   "outputs": [
    {
     "data": {
      "text/plain": [
       "Text(0.5, 1.0, 'Global_Sales  / NA_Sales')"
      ]
     },
     "execution_count": 19,
     "metadata": {},
     "output_type": "execute_result"
    },
    {
     "data": {
      "text/plain": [
       "<Figure size 1080x4320 with 0 Axes>"
      ]
     },
     "metadata": {},
     "output_type": "display_data"
    },
    {
     "data": {
      "image/png": "[encoded data removed]",
      "text/plain": [
       "<Figure size 360x360 with 1 Axes>"
      ]
     },
     "metadata": {
      "needs_background": "light"
     },
     "output_type": "display_data"
    }
   ],
   "source": [
    "plt.figure(figsize=(15,60))\n",
    "sb.relplot(x=\"NA_Sales\",y=\"Global_Sales\",data=drecent)\n",
    "plt.xlabel(\"Vente en amérique du Nord\", fontsize=16, color=\"black\")\n",
    "plt.ylabel(\"Vente globale moyenne(en milliards)\", fontsize=16, color=\"black\")\n",
    "plt.title(\"Global_Sales  / NA_Sales\", fontsize=18, color=\"black\")"
   ]
  },
  {
   "cell_type": "code",
   "execution_count": 20,
   "id": "34916091",
   "metadata": {},
   "outputs": [
    {
     "data": {
      "text/plain": [
       "Text(0.5, 1.0, 'Global_Sales  / EU_Sales')"
      ]
     },
     "execution_count": 20,
     "metadata": {},
     "output_type": "execute_result"
    },
    {
     "data": {
      "text/plain": [
       "<Figure size 1080x4320 with 0 Axes>"
      ]
     },
     "metadata": {},
     "output_type": "display_data"
    },
    {
     "data": {
      "image/png": "[encoded data removed]",
      "text/plain": [
       "<Figure size 360x360 with 1 Axes>"
      ]
     },
     "metadata": {
      "needs_background": "light"
     },
     "output_type": "display_data"
    }
   ],
   "source": [
    "plt.figure(figsize=(15,60))\n",
    "sb.relplot(x=\"EU_Sales\",y=\"Global_Sales\",data=drecent)\n",
    "plt.xlabel(\"Vente en Europe\", fontsize=16, color=\"black\")\n",
    "plt.ylabel(\"Vente globale moyenne(en milliards)\", fontsize=16, color=\"black\")\n",
    "plt.title(\"Global_Sales  / EU_Sales\", fontsize=18, color=\"black\")"
   ]
  },
  {
   "cell_type": "code",
   "execution_count": 21,
   "id": "7f620db0",
   "metadata": {},
   "outputs": [
    {
     "data": {
      "text/plain": [
       "Text(0.5, 1.0, 'Global_Sales  / JP_Sales')"
      ]
     },
     "execution_count": 21,
     "metadata": {},
     "output_type": "execute_result"
    },
    {
     "data": {
      "text/plain": [
       "<Figure size 1080x4320 with 0 Axes>"
      ]
     },
     "metadata": {},
     "output_type": "display_data"
    },
    {
     "data": {
      "image/png": "[encoded data removed]",
      "text/plain": [
       "<Figure size 360x360 with 1 Axes>"
      ]
     },
     "metadata": {
      "needs_background": "light"
     },
     "output_type": "display_data"
    }
   ],
   "source": [
    "plt.figure(figsize=(15,60))\n",
    "sb.relplot(x=\"JP_Sales\",y=\"Global_Sales\",data=drecent)\n",
    "plt.xlabel(\"Vente au Japon\", fontsize=16, color=\"black\")\n",
    "plt.ylabel(\"Vente globale moyenne(en milliards)\", fontsize=16, color=\"black\")\n",
    "plt.title(\"Global_Sales  / JP_Sales\", fontsize=18, color=\"black\")"
   ]
  },
  {
   "cell_type": "code",
   "execution_count": null,
   "id": "6feae448",
   "metadata": {},
   "outputs": [],
   "source": []
  }
 ],
 "metadata": {
  "celltoolbar": "Format de la Cellule Texte Brut",
  "kernelspec": {
   "display_name": "Python 3 (ipykernel)",
   "language": "python",
   "name": "python3"
  },
  "language_info": {
   "codemirror_mode": {
    "name": "ipython",
    "version": 3
   },
   "file_extension": ".py",
   "mimetype": "text/x-python",
   "name": "python",
   "nbconvert_exporter": "python",
   "pygments_lexer": "ipython3",
   "version": "3.9.1"
  }
 },
 "nbformat": 4,
 "nbformat_minor": 5
}
